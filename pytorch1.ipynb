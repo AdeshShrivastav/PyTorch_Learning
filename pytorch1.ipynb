{
  "nbformat": 4,
  "nbformat_minor": 0,
  "metadata": {
    "colab": {
      "provenance": [],
      "gpuType": "T4"
    },
    "kernelspec": {
      "name": "python3",
      "display_name": "Python 3"
    },
    "language_info": {
      "name": "python"
    },
    "accelerator": "GPU"
  },
  "cells": [
    {
      "cell_type": "code",
      "execution_count": null,
      "metadata": {
        "id": "vrIknS-xxPTg"
      },
      "outputs": [],
      "source": [
        "import torch\n"
      ]
    },
    {
      "cell_type": "code",
      "source": [
        "x = torch.randn(3,requires_grad=True)\n",
        "print(x)"
      ],
      "metadata": {
        "colab": {
          "base_uri": "https://localhost:8080/"
        },
        "id": "5GK-J7ypxV2a",
        "outputId": "32a1c63d-122c-4724-a714-9528e076b5ca"
      },
      "execution_count": null,
      "outputs": [
        {
          "output_type": "stream",
          "name": "stdout",
          "text": [
            "tensor([ 0.2959,  1.0150, -0.6566], requires_grad=True)\n"
          ]
        }
      ]
    },
    {
      "cell_type": "code",
      "source": [
        "y = x+2\n",
        "print(y)\n",
        "\n",
        "z = y*y*3\n",
        "out = z.mean()\n",
        "print(z,out)\n",
        "# z.backward()"
      ],
      "metadata": {
        "colab": {
          "base_uri": "https://localhost:8080/"
        },
        "id": "x1Q3M5w0xZxu",
        "outputId": "6e2c0ed4-2a30-40d3-9ef8-1b4aac0cab59"
      },
      "execution_count": null,
      "outputs": [
        {
          "output_type": "stream",
          "name": "stdout",
          "text": [
            "tensor([2.2959, 3.0150, 1.3434], grad_fn=<AddBackward0>)\n",
            "tensor([15.8141, 27.2700,  5.4143], grad_fn=<MulBackward0>) tensor(16.1661, grad_fn=<MeanBackward0>)\n"
          ]
        }
      ]
    },
    {
      "cell_type": "code",
      "source": [
        "v = torch.tensor([0.1,1.0,0.001],dtype=torch.float32)\n",
        "z.backward(v) #dz/dx\n",
        "print(x.grad)"
      ],
      "metadata": {
        "colab": {
          "base_uri": "https://localhost:8080/"
        },
        "id": "pL_L1avExzEr",
        "outputId": "3db0d219-83e6-46d2-ec73-77890d42d011"
      },
      "execution_count": null,
      "outputs": [
        {
          "output_type": "stream",
          "name": "stdout",
          "text": [
            "tensor([1.3776e+00, 1.8090e+01, 8.0605e-03])\n"
          ]
        }
      ]
    },
    {
      "cell_type": "code",
      "source": [
        "x = torch.arange(start = 1 , end = 100 , step = 10)\n",
        "print(x)"
      ],
      "metadata": {
        "id": "i_zkyRo0zIzw",
        "colab": {
          "base_uri": "https://localhost:8080/"
        },
        "outputId": "641761ba-233e-4d88-df5a-470975a554ed"
      },
      "execution_count": null,
      "outputs": [
        {
          "output_type": "stream",
          "name": "stdout",
          "text": [
            "tensor([ 1, 11, 21, 31, 41, 51, 61, 71, 81, 91])\n"
          ]
        }
      ]
    },
    {
      "cell_type": "code",
      "source": [
        "x_reshape = x.reshape(10,1)\n",
        "print(x_reshape)"
      ],
      "metadata": {
        "colab": {
          "base_uri": "https://localhost:8080/"
        },
        "id": "yWHR9kRFl6Ps",
        "outputId": "bb964037-f673-4c84-e1d7-16651b25a8fe"
      },
      "execution_count": null,
      "outputs": [
        {
          "output_type": "stream",
          "name": "stdout",
          "text": [
            "tensor([[ 1],\n",
            "        [11],\n",
            "        [21],\n",
            "        [31],\n",
            "        [41],\n",
            "        [51],\n",
            "        [61],\n",
            "        [71],\n",
            "        [81],\n",
            "        [91]])\n"
          ]
        }
      ]
    },
    {
      "cell_type": "code",
      "source": [
        "#change the view\n",
        "z = x.view(5,2)\n",
        "print(z,z.shape)"
      ],
      "metadata": {
        "colab": {
          "base_uri": "https://localhost:8080/"
        },
        "id": "FxESeYUSmA3e",
        "outputId": "8fac888f-a544-42d3-ab75-6791dd5f4366"
      },
      "execution_count": null,
      "outputs": [
        {
          "output_type": "stream",
          "name": "stdout",
          "text": [
            "tensor([[ 1, 11],\n",
            "        [21, 31],\n",
            "        [41, 51],\n",
            "        [61, 71],\n",
            "        [81, 91]]) torch.Size([5, 2])\n"
          ]
        }
      ]
    },
    {
      "cell_type": "code",
      "source": [
        "# z[:,0]=5\n",
        "print(z,x)"
      ],
      "metadata": {
        "colab": {
          "base_uri": "https://localhost:8080/"
        },
        "id": "ee6HLa4fmrWy",
        "outputId": "cc48adbf-d262-4f7c-9f73-bd4df2de7049"
      },
      "execution_count": null,
      "outputs": [
        {
          "output_type": "stream",
          "name": "stdout",
          "text": [
            "tensor([[ 1, 11],\n",
            "        [21, 31],\n",
            "        [41, 51],\n",
            "        [61, 71],\n",
            "        [81, 91]]) tensor([ 1, 11, 21, 31, 41, 51, 61, 71, 81, 91])\n"
          ]
        }
      ]
    },
    {
      "cell_type": "code",
      "source": [
        "#stack tensors\n",
        "x_stack = torch.stack([x,x,x,x],dim=0)\n",
        "print(x_stack)"
      ],
      "metadata": {
        "colab": {
          "base_uri": "https://localhost:8080/"
        },
        "id": "TlZ4I0Sjm5j1",
        "outputId": "5838233a-c010-419a-bfe8-c07099266b6f"
      },
      "execution_count": null,
      "outputs": [
        {
          "output_type": "stream",
          "name": "stdout",
          "text": [
            "tensor([[ 1, 11, 21, 31, 41, 51, 61, 71, 81, 91],\n",
            "        [ 1, 11, 21, 31, 41, 51, 61, 71, 81, 91],\n",
            "        [ 1, 11, 21, 31, 41, 51, 61, 71, 81, 91],\n",
            "        [ 1, 11, 21, 31, 41, 51, 61, 71, 81, 91]])\n"
          ]
        }
      ]
    },
    {
      "cell_type": "code",
      "source": [
        "xvstack = torch.vstack([x,x,x,x])\n",
        "print(xvstack)"
      ],
      "metadata": {
        "colab": {
          "base_uri": "https://localhost:8080/"
        },
        "id": "CmbclWK_naEI",
        "outputId": "34ba51a1-7353-4f6c-e347-9388f3e27e86"
      },
      "execution_count": null,
      "outputs": [
        {
          "output_type": "stream",
          "name": "stdout",
          "text": [
            "tensor([[ 1, 11, 21, 31, 41, 51, 61, 71, 81, 91],\n",
            "        [ 1, 11, 21, 31, 41, 51, 61, 71, 81, 91],\n",
            "        [ 1, 11, 21, 31, 41, 51, 61, 71, 81, 91],\n",
            "        [ 1, 11, 21, 31, 41, 51, 61, 71, 81, 91]])\n"
          ]
        }
      ]
    },
    {
      "cell_type": "code",
      "source": [
        "xhstack = torch.hstack([x,x,x,x])\n",
        "print(xhstack)"
      ],
      "metadata": {
        "colab": {
          "base_uri": "https://localhost:8080/"
        },
        "id": "0BiJtOifn0q2",
        "outputId": "dd6a27a9-9f6b-4933-85b8-a5ebb066d7dd"
      },
      "execution_count": null,
      "outputs": [
        {
          "output_type": "stream",
          "name": "stdout",
          "text": [
            "tensor([ 1, 11, 21, 31, 41, 51, 61, 71, 81, 91,  1, 11, 21, 31, 41, 51, 61, 71,\n",
            "        81, 91,  1, 11, 21, 31, 41, 51, 61, 71, 81, 91,  1, 11, 21, 31, 41, 51,\n",
            "        61, 71, 81, 91])\n"
          ]
        }
      ]
    },
    {
      "cell_type": "code",
      "source": [
        "#squeez and unsqeez\n",
        "z = z.reshape(1,1,10)\n",
        "print(z,z.shape)\n",
        "z_sq = z.squeeze()\n",
        "print(z_sq,z_sq.shape)\n",
        "z_unsq = z_sq.unsqueeze(dim=0)\n",
        "print(z_unsq,z_unsq.shape)"
      ],
      "metadata": {
        "colab": {
          "base_uri": "https://localhost:8080/"
        },
        "id": "TC-vg_v4n3Os",
        "outputId": "e393b6f3-5fb0-4ab9-c89d-afa04bf7eead"
      },
      "execution_count": null,
      "outputs": [
        {
          "output_type": "stream",
          "name": "stdout",
          "text": [
            "tensor([[[ 1, 11, 21, 31, 41, 51, 61, 71, 81, 91]]]) torch.Size([1, 1, 10])\n",
            "tensor([ 1, 11, 21, 31, 41, 51, 61, 71, 81, 91]) torch.Size([10])\n",
            "tensor([[ 1, 11, 21, 31, 41, 51, 61, 71, 81, 91]]) torch.Size([1, 10])\n"
          ]
        }
      ]
    },
    {
      "cell_type": "code",
      "source": [
        "#permute\n",
        "x = torch.randn(2,3,5)\n",
        "print(x.shape)\n",
        "x_permute = x.permute(2,0,1)\n",
        "print(x_permute.shape)"
      ],
      "metadata": {
        "colab": {
          "base_uri": "https://localhost:8080/"
        },
        "id": "gLYVCRfGoIy7",
        "outputId": "91fd5f89-373c-483b-9c9f-f6850ad82f29"
      },
      "execution_count": null,
      "outputs": [
        {
          "output_type": "stream",
          "name": "stdout",
          "text": [
            "torch.Size([2, 3, 5])\n",
            "torch.Size([5, 2, 3])\n"
          ]
        }
      ]
    },
    {
      "cell_type": "code",
      "source": [],
      "metadata": {
        "id": "9GOr92pUpQYo"
      },
      "execution_count": null,
      "outputs": []
    },
    {
      "cell_type": "markdown",
      "source": [
        "# ***Pytorch with numppy***\n"
      ],
      "metadata": {
        "id": "G1PQg9pusABd"
      }
    },
    {
      "cell_type": "code",
      "source": [
        "import torch\n",
        "import numpy as np\n",
        "\n",
        "array = np.arange(1.0,8.0)\n",
        "tensor = torch.from_numpy(array)\n",
        "tensor = tensor.type(torch.float32)\n",
        "print(array,tensor,tensor.dtype)"
      ],
      "metadata": {
        "colab": {
          "base_uri": "https://localhost:8080/"
        },
        "id": "wko5wW0nsJH2",
        "outputId": "ff0c912c-b0ac-42ce-8f20-3a0a4e7e7954"
      },
      "execution_count": null,
      "outputs": [
        {
          "output_type": "stream",
          "name": "stdout",
          "text": [
            "[1. 2. 3. 4. 5. 6. 7.] tensor([1., 2., 3., 4., 5., 6., 7.]) torch.float32\n"
          ]
        }
      ]
    },
    {
      "cell_type": "code",
      "source": [
        "#CHANGE VALUE OF ARRAY\n",
        "array = array+1\n",
        "print(array,tensor)"
      ],
      "metadata": {
        "colab": {
          "base_uri": "https://localhost:8080/"
        },
        "id": "kY9mJj2LtDo1",
        "outputId": "b1bfa25d-9b08-4c2d-a164-040b43abb479"
      },
      "execution_count": null,
      "outputs": [
        {
          "output_type": "stream",
          "name": "stdout",
          "text": [
            "[2. 3. 4. 5. 6. 7. 8.] tensor([1., 2., 3., 4., 5., 6., 7.])\n"
          ]
        }
      ]
    },
    {
      "cell_type": "code",
      "source": [
        "#tensor to numpy\n",
        "\n",
        "tensor = torch.ones(7)\n",
        "numpy_tensor = tensor.numpy()\n",
        "print(tensor,numpy_tensor)"
      ],
      "metadata": {
        "colab": {
          "base_uri": "https://localhost:8080/"
        },
        "id": "Vw7uA9YVtvTi",
        "outputId": "50ee29c5-8ad1-4798-a3fc-568a0b031445"
      },
      "execution_count": null,
      "outputs": [
        {
          "output_type": "stream",
          "name": "stdout",
          "text": [
            "tensor([1., 1., 1., 1., 1., 1., 1.]) [1. 1. 1. 1. 1. 1. 1.]\n"
          ]
        }
      ]
    },
    {
      "cell_type": "code",
      "source": [
        "#pytorch reproducibility :-  tryng to take random from random value\n",
        "\n",
        "random_tensor_a = torch.rand(3,4)\n",
        "random_tensor_b = torch.rand(3,4)\n",
        "print(random_tensor_a)\n",
        "print(random_tensor_b)\n",
        "print(random_tensor_a == random_tensor_b)\n"
      ],
      "metadata": {
        "colab": {
          "base_uri": "https://localhost:8080/"
        },
        "id": "JvvGLE0Nt6b7",
        "outputId": "88d3e6e0-3a25-452e-9f4f-987d2a948349"
      },
      "execution_count": null,
      "outputs": [
        {
          "output_type": "stream",
          "name": "stdout",
          "text": [
            "tensor([[0.9159, 0.0462, 0.2029, 0.6212],\n",
            "        [0.1892, 0.4053, 0.1219, 0.9054],\n",
            "        [0.7573, 0.6493, 0.7324, 0.6273]])\n",
            "tensor([[0.9206, 0.0984, 0.6029, 0.7527],\n",
            "        [0.8328, 0.1279, 0.2196, 0.1141],\n",
            "        [0.0980, 0.4596, 0.3145, 0.5529]])\n",
            "tensor([[False, False, False, False],\n",
            "        [False, False, False, False],\n",
            "        [False, False, False, False]])\n"
          ]
        }
      ]
    },
    {
      "cell_type": "code",
      "source": [
        "#make some random but reproduceble\n",
        "\n",
        "random_seed = 42\n",
        "torch.manual_seed(random_seed)\n",
        "random_tensor_c = torch.rand(3,4)\n",
        "torch.manual_seed(random_seed)\n",
        "random_tensor_d = torch.rand(3,4)\n",
        "print(random_tensor_c)\n",
        "print(random_tensor_d)\n",
        "print(random_tensor_c == random_tensor_d)"
      ],
      "metadata": {
        "colab": {
          "base_uri": "https://localhost:8080/"
        },
        "id": "t4k8kuH6vg6J",
        "outputId": "22e00595-a684-4ad8-fe0d-381ede50ab6f"
      },
      "execution_count": null,
      "outputs": [
        {
          "output_type": "stream",
          "name": "stdout",
          "text": [
            "tensor([[0.8823, 0.9150, 0.3829, 0.9593],\n",
            "        [0.3904, 0.6009, 0.2566, 0.7936],\n",
            "        [0.9408, 0.1332, 0.9346, 0.5936]])\n",
            "tensor([[0.8823, 0.9150, 0.3829, 0.9593],\n",
            "        [0.3904, 0.6009, 0.2566, 0.7936],\n",
            "        [0.9408, 0.1332, 0.9346, 0.5936]])\n",
            "tensor([[True, True, True, True],\n",
            "        [True, True, True, True],\n",
            "        [True, True, True, True]])\n"
          ]
        }
      ]
    },
    {
      "cell_type": "code",
      "source": [
        " # running tensors on gpus\n",
        " !nvidia-smi\n"
      ],
      "metadata": {
        "colab": {
          "base_uri": "https://localhost:8080/"
        },
        "id": "T387q5t_wF7t",
        "outputId": "d879729d-ba78-452c-f9de-90675518310f"
      },
      "execution_count": null,
      "outputs": [
        {
          "output_type": "stream",
          "name": "stdout",
          "text": [
            "Sun Sep 22 11:07:19 2024       \n",
            "+---------------------------------------------------------------------------------------+\n",
            "| NVIDIA-SMI 535.104.05             Driver Version: 535.104.05   CUDA Version: 12.2     |\n",
            "|-----------------------------------------+----------------------+----------------------+\n",
            "| GPU  Name                 Persistence-M | Bus-Id        Disp.A | Volatile Uncorr. ECC |\n",
            "| Fan  Temp   Perf          Pwr:Usage/Cap |         Memory-Usage | GPU-Util  Compute M. |\n",
            "|                                         |                      |               MIG M. |\n",
            "|=========================================+======================+======================|\n",
            "|   0  Tesla T4                       Off | 00000000:00:04.0 Off |                    0 |\n",
            "| N/A   52C    P8              10W /  70W |      3MiB / 15360MiB |      0%      Default |\n",
            "|                                         |                      |                  N/A |\n",
            "+-----------------------------------------+----------------------+----------------------+\n",
            "                                                                                         \n",
            "+---------------------------------------------------------------------------------------+\n",
            "| Processes:                                                                            |\n",
            "|  GPU   GI   CI        PID   Type   Process name                            GPU Memory |\n",
            "|        ID   ID                                                             Usage      |\n",
            "|=======================================================================================|\n",
            "|  No running processes found                                                           |\n",
            "+---------------------------------------------------------------------------------------+\n"
          ]
        }
      ]
    },
    {
      "cell_type": "code",
      "source": [
        "#cheak for gpu access in pytorch\n",
        "import torch\n",
        "torch.cuda.is_available()"
      ],
      "metadata": {
        "colab": {
          "base_uri": "https://localhost:8080/"
        },
        "id": "tQrREXb4ywHa",
        "outputId": "35a25d4a-9c39-434c-fd46-bf2822903d9b"
      },
      "execution_count": null,
      "outputs": [
        {
          "output_type": "execute_result",
          "data": {
            "text/plain": [
              "True"
            ]
          },
          "metadata": {},
          "execution_count": 20
        }
      ]
    },
    {
      "cell_type": "code",
      "source": [
        "#setup gpu\n",
        "device = \"cuda\" if torch.cuda.is_available() else \"cpu\"\n",
        "device"
      ],
      "metadata": {
        "colab": {
          "base_uri": "https://localhost:8080/",
          "height": 36
        },
        "id": "DZ7d_fJKzIMr",
        "outputId": "3969d822-4b86-4010-bd36-49246b80e3f0"
      },
      "execution_count": null,
      "outputs": [
        {
          "output_type": "execute_result",
          "data": {
            "text/plain": [
              "'cuda'"
            ],
            "application/vnd.google.colaboratory.intrinsic+json": {
              "type": "string"
            }
          },
          "metadata": {},
          "execution_count": 21
        }
      ]
    },
    {
      "cell_type": "code",
      "source": [
        "# count the no of gpu\n",
        "torch.cuda.device_count()"
      ],
      "metadata": {
        "colab": {
          "base_uri": "https://localhost:8080/"
        },
        "id": "oCFg6L_-zxr5",
        "outputId": "6227602b-4675-4005-ab04-fe28a3e8e3e6"
      },
      "execution_count": null,
      "outputs": [
        {
          "output_type": "execute_result",
          "data": {
            "text/plain": [
              "1"
            ]
          },
          "metadata": {},
          "execution_count": 22
        }
      ]
    },
    {
      "cell_type": "code",
      "source": [
        "a = torch.tensor([1,2,3])\n",
        "a.device"
      ],
      "metadata": {
        "id": "TojYRmD7z3yT",
        "colab": {
          "base_uri": "https://localhost:8080/"
        },
        "outputId": "3807799e-5684-4345-c2d5-404153a31081"
      },
      "execution_count": null,
      "outputs": [
        {
          "output_type": "execute_result",
          "data": {
            "text/plain": [
              "device(type='cpu')"
            ]
          },
          "metadata": {},
          "execution_count": 23
        }
      ]
    },
    {
      "cell_type": "code",
      "source": [
        "a.to(device)"
      ],
      "metadata": {
        "id": "Qqlxj6YYan2g",
        "outputId": "e948eec0-9709-493d-b3bc-4f07dd2936f0",
        "colab": {
          "base_uri": "https://localhost:8080/"
        }
      },
      "execution_count": null,
      "outputs": [
        {
          "output_type": "execute_result",
          "data": {
            "text/plain": [
              "tensor([1, 2, 3], device='cuda:0')"
            ]
          },
          "metadata": {},
          "execution_count": 24
        }
      ]
    },
    {
      "cell_type": "code",
      "source": [],
      "metadata": {
        "id": "zRQcgkRDaqwM"
      },
      "execution_count": null,
      "outputs": []
    }
  ]
}